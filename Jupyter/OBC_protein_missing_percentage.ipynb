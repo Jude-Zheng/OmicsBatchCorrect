{
 "cells": [
  {
   "cell_type": "code",
   "execution_count": 118,
   "id": "b3219ca4",
   "metadata": {
    "ExecuteTime": {
     "end_time": "2023-03-03T06:08:34.431690Z",
     "start_time": "2023-03-03T06:08:34.429620Z"
    }
   },
   "outputs": [],
   "source": [
    "# In the benchmark dataset, the impact of KNN imputation on biological signals under different levels of protein missingness was investigated"
   ]
  },
  {
   "cell_type": "code",
   "execution_count": 1,
   "id": "8aa20f1b",
   "metadata": {
    "ExecuteTime": {
     "end_time": "2023-03-02T03:42:46.161668Z",
     "start_time": "2023-03-02T03:42:45.775864Z"
    }
   },
   "outputs": [],
   "source": [
    "import pandas as pd\n",
    "import openpyxl\n",
    "import xlsxwriter\n",
    "import numpy as np\n",
    "import os\n",
    "import re\n",
    "import fancyimpute"
   ]
  },
  {
   "cell_type": "code",
   "execution_count": 8,
   "id": "cf92843d",
   "metadata": {
    "ExecuteTime": {
     "end_time": "2023-03-02T06:26:03.647612Z",
     "start_time": "2023-03-02T06:26:03.413189Z"
    }
   },
   "outputs": [],
   "source": [
    "df_protein_raw = pd.read_csv(\"/home/zhl/projects/batch_effect_correction/new_results/Protein_raw_maxLFQ.csv\",\n",
    "                         low_memory=False) #index: Protein\n",
    "df_protein_raw.index = df_protein_raw[\"Protein\"]"
   ]
  },
  {
   "cell_type": "code",
   "execution_count": 10,
   "id": "07aba34c",
   "metadata": {
    "ExecuteTime": {
     "end_time": "2023-03-02T06:30:00.416347Z",
     "start_time": "2023-03-02T06:30:00.395308Z"
    }
   },
   "outputs": [],
   "source": [
    "df_protein_raw_samples = df_protein_raw.iloc[:,2:]\n",
    "df_protein_raw_samples[df_protein_raw_samples <= 100] = np.nan"
   ]
  },
  {
   "cell_type": "markdown",
   "id": "0a142f48",
   "metadata": {
    "ExecuteTime": {
     "end_time": "2023-03-02T06:22:56.157778Z",
     "start_time": "2023-03-02T06:22:56.155810Z"
    }
   },
   "source": [
    "<font color=red size=4>1.missing value percentage in all samples < 40%"
   ]
  },
  {
   "cell_type": "markdown",
   "id": "3069fafb",
   "metadata": {},
   "source": [
    "<font color=black size=3> At least 60% of samples have quantitative value"
   ]
  },
  {
   "cell_type": "code",
   "execution_count": 15,
   "id": "9a5d4935",
   "metadata": {
    "ExecuteTime": {
     "end_time": "2023-03-02T06:44:18.499553Z",
     "start_time": "2023-03-02T06:44:18.484668Z"
    }
   },
   "outputs": [
    {
     "name": "stdout",
     "output_type": "stream",
     "text": [
      "Protein is quantified in at least 183 samples\n"
     ]
    }
   ],
   "source": [
    "thresh_num = df_protein_raw_samples.shape[1]*0.6 \n",
    "print(\"Protein is quantified in at least %d samples\"%thresh_num )\n",
    "df_protein_missing40 = df_protein_raw_samples.dropna(axis=0,thresh=thresh_num)\n",
    "df_protein_missing40 = df_protein_missing40.T\n",
    "#df_protein_num.fillna(1,inplace=True)"
   ]
  },
  {
   "cell_type": "markdown",
   "id": "5747453d",
   "metadata": {
    "ExecuteTime": {
     "end_time": "2023-03-02T06:24:05.751795Z",
     "start_time": "2023-03-02T06:24:05.745878Z"
    }
   },
   "source": [
    "<font color=red size=4>knn impute missing value of the remaining samples"
   ]
  },
  {
   "cell_type": "code",
   "execution_count": 18,
   "id": "9ef0e9e0",
   "metadata": {
    "ExecuteTime": {
     "end_time": "2023-03-02T06:46:31.285816Z",
     "start_time": "2023-03-02T06:46:28.357722Z"
    }
   },
   "outputs": [
    {
     "name": "stdout",
     "output_type": "stream",
     "text": [
      "Imputing row 1/305 with 509 missing, elapsed time: 2.329\n",
      "Imputing row 101/305 with 344 missing, elapsed time: 2.501\n",
      "Imputing row 201/305 with 1783 missing, elapsed time: 2.741\n",
      "Imputing row 301/305 with 471 missing, elapsed time: 2.900\n"
     ]
    }
   ],
   "source": [
    "columns = list(df_protein_missing40.columns)\n",
    "df_protein_missing40impute = fancyimpute.KNN(k=15).fit_transform(df_protein_missing40.values) #knn按列进行填充\n",
    "df_protein_missing40impute = pd.DataFrame(df_protein_missing40impute, columns=columns, index=df_protein_missing40.index).T"
   ]
  },
  {
   "cell_type": "code",
   "execution_count": 23,
   "id": "9869ac67",
   "metadata": {
    "ExecuteTime": {
     "end_time": "2023-03-02T06:53:46.243260Z",
     "start_time": "2023-03-02T06:53:45.435184Z"
    }
   },
   "outputs": [],
   "source": [
    "file_missing40 = \"/home/zhl/projects/batch_effect_correction/new_results/missingvalue/Protein_raw_maxLFQ_impute0.6.csv\"\n",
    "\n",
    "df_missing40 = pd.merge(df_protein_raw.loc[:,[\"Protein\",\"PG.FASTAName\"]],df_protein_missing40impute,\n",
    "                         how=\"right\",left_index = True,right_index = True)\n",
    "\n",
    "df_missing40.round(3).to_csv(file_missing40,index=False)"
   ]
  },
  {
   "cell_type": "code",
   "execution_count": null,
   "id": "d5d4c311",
   "metadata": {},
   "outputs": [],
   "source": []
  },
  {
   "cell_type": "markdown",
   "id": "a4f6830e",
   "metadata": {
    "ExecuteTime": {
     "end_time": "2023-03-02T06:22:56.157778Z",
     "start_time": "2023-03-02T06:22:56.155810Z"
    }
   },
   "source": [
    "<font color=red size=4>2.missing value percentage in all samples < 50%"
   ]
  },
  {
   "cell_type": "markdown",
   "id": "73db9106",
   "metadata": {},
   "source": [
    "<font color=black size=3> At least 50% of samples have quantitative value"
   ]
  },
  {
   "cell_type": "code",
   "execution_count": 26,
   "id": "f3e96678",
   "metadata": {
    "ExecuteTime": {
     "end_time": "2023-03-02T06:56:56.577437Z",
     "start_time": "2023-03-02T06:56:56.556830Z"
    }
   },
   "outputs": [
    {
     "name": "stdout",
     "output_type": "stream",
     "text": [
      "Protein is quantified in at least 152 samples\n"
     ]
    }
   ],
   "source": [
    "thresh_num = df_protein_raw_samples.shape[1]*0.5\n",
    "print(\"Protein is quantified in at least %d samples\"%thresh_num )\n",
    "df_protein_missing50 = df_protein_raw_samples.dropna(axis=0,thresh=thresh_num)\n",
    "df_protein_missing50 = df_protein_missing50.T\n",
    "#df_protein_num.fillna(1,inplace=True)"
   ]
  },
  {
   "cell_type": "markdown",
   "id": "fffc6eb9",
   "metadata": {
    "ExecuteTime": {
     "end_time": "2023-03-02T06:24:05.751795Z",
     "start_time": "2023-03-02T06:24:05.745878Z"
    }
   },
   "source": [
    "<font color=red size=4>knn impute missing value of the remaining samples"
   ]
  },
  {
   "cell_type": "code",
   "execution_count": 27,
   "id": "a54fc370",
   "metadata": {
    "ExecuteTime": {
     "end_time": "2023-03-02T06:57:02.355286Z",
     "start_time": "2023-03-02T06:56:59.034599Z"
    }
   },
   "outputs": [
    {
     "name": "stdout",
     "output_type": "stream",
     "text": [
      "Imputing row 1/305 with 702 missing, elapsed time: 2.441\n",
      "Imputing row 101/305 with 585 missing, elapsed time: 2.702\n",
      "Imputing row 201/305 with 2173 missing, elapsed time: 3.040\n",
      "Imputing row 301/305 with 625 missing, elapsed time: 3.281\n"
     ]
    }
   ],
   "source": [
    "columns = list(df_protein_missing50.columns)\n",
    "df_protein_missing50impute = fancyimpute.KNN(k=15).fit_transform(df_protein_missing50.values) #knn按列进行填充\n",
    "df_protein_missing50impute = pd.DataFrame(df_protein_missing50impute, columns=columns, index=df_protein_missing50.index).T"
   ]
  },
  {
   "cell_type": "code",
   "execution_count": 28,
   "id": "f98986a1",
   "metadata": {
    "ExecuteTime": {
     "end_time": "2023-03-02T06:57:07.524147Z",
     "start_time": "2023-03-02T06:57:06.660033Z"
    }
   },
   "outputs": [],
   "source": [
    "file_missing50 = \"/home/zhl/projects/batch_effect_correction/new_results/missingvalue/Protein_raw_maxLFQ_impute0.5.csv\"\n",
    "\n",
    "df_missing50 = pd.merge(df_protein_raw.loc[:,[\"Protein\",\"PG.FASTAName\"]],df_protein_missing50impute,\n",
    "                         how=\"right\",left_index = True,right_index = True)\n",
    "\n",
    "df_missing50.round(3).to_csv(file_missing50,index=False)"
   ]
  },
  {
   "cell_type": "code",
   "execution_count": null,
   "id": "11d8e912",
   "metadata": {},
   "outputs": [],
   "source": []
  },
  {
   "cell_type": "markdown",
   "id": "a96e476b",
   "metadata": {
    "ExecuteTime": {
     "end_time": "2023-03-02T06:22:56.157778Z",
     "start_time": "2023-03-02T06:22:56.155810Z"
    }
   },
   "source": [
    "<font color=red size=4>3.missing value percentage in all samples < 60%"
   ]
  },
  {
   "cell_type": "markdown",
   "id": "90543343",
   "metadata": {},
   "source": [
    "<font color=black size=3> At least 40% of samples have quantitative value"
   ]
  },
  {
   "cell_type": "code",
   "execution_count": 29,
   "id": "1fe88402",
   "metadata": {
    "ExecuteTime": {
     "end_time": "2023-03-02T06:59:20.830718Z",
     "start_time": "2023-03-02T06:59:20.815697Z"
    }
   },
   "outputs": [
    {
     "name": "stdout",
     "output_type": "stream",
     "text": [
      "Protein is quantified in at least 122 samples\n"
     ]
    }
   ],
   "source": [
    "thresh_num = df_protein_raw_samples.shape[1]*0.4\n",
    "print(\"Protein is quantified in at least %d samples\"%thresh_num )\n",
    "df_protein_missing60 = df_protein_raw_samples.dropna(axis=0,thresh=thresh_num)\n",
    "df_protein_missing60 = df_protein_missing60.T\n",
    "#df_protein_num.fillna(1,inplace=True)"
   ]
  },
  {
   "cell_type": "markdown",
   "id": "7404e410",
   "metadata": {
    "ExecuteTime": {
     "end_time": "2023-03-02T06:24:05.751795Z",
     "start_time": "2023-03-02T06:24:05.745878Z"
    }
   },
   "source": [
    "<font color=red size=4>knn impute missing value of the remaining samples"
   ]
  },
  {
   "cell_type": "code",
   "execution_count": 30,
   "id": "d56d2f44",
   "metadata": {
    "ExecuteTime": {
     "end_time": "2023-03-02T06:59:33.820898Z",
     "start_time": "2023-03-02T06:59:30.059615Z"
    },
    "scrolled": true
   },
   "outputs": [
    {
     "name": "stdout",
     "output_type": "stream",
     "text": [
      "Imputing row 1/305 with 904 missing, elapsed time: 2.616\n",
      "Imputing row 101/305 with 825 missing, elapsed time: 2.962\n",
      "Imputing row 201/305 with 2531 missing, elapsed time: 3.401\n",
      "Imputing row 301/305 with 811 missing, elapsed time: 3.723\n"
     ]
    }
   ],
   "source": [
    "columns = list(df_protein_missing60.columns)\n",
    "df_protein_missing60impute = fancyimpute.KNN(k=15).fit_transform(df_protein_missing60.values) #knn按列进行填充\n",
    "df_protein_missing60impute = pd.DataFrame(df_protein_missing60impute, columns=columns, index=df_protein_missing60.index).T"
   ]
  },
  {
   "cell_type": "code",
   "execution_count": 31,
   "id": "36dce313",
   "metadata": {
    "ExecuteTime": {
     "end_time": "2023-03-02T07:00:16.755174Z",
     "start_time": "2023-03-02T07:00:15.868072Z"
    }
   },
   "outputs": [],
   "source": [
    "file_missing60 = \"/home/zhl/projects/batch_effect_correction/new_results/missingvalue/Protein_raw_maxLFQ_impute0.4.csv\"\n",
    "\n",
    "df_missing60 = pd.merge(df_protein_raw.loc[:,[\"Protein\",\"PG.FASTAName\"]],df_protein_missing60impute,\n",
    "                         how=\"right\",left_index = True,right_index = True)\n",
    "\n",
    "df_missing60.round(3).to_csv(file_missing60,index=False)"
   ]
  },
  {
   "cell_type": "markdown",
   "id": "e1134dc1",
   "metadata": {},
   "source": [
    "## 0-100% missing percentage"
   ]
  },
  {
   "cell_type": "code",
   "execution_count": 45,
   "id": "22431f99",
   "metadata": {
    "ExecuteTime": {
     "end_time": "2023-03-02T08:37:53.817578Z",
     "start_time": "2023-03-02T08:37:53.814231Z"
    }
   },
   "outputs": [],
   "source": [
    "missing_rate=0.4\n",
    "save_dir = \"/home/zhl/projects/batch_effect_correction/new_results/missingvalue\"\n",
    "file_missing = os.path.join(save_dir,\"Protein_raw_maxLFQ_impute\"+str(missing_rate)+\".csv\")"
   ]
  },
  {
   "cell_type": "code",
   "execution_count": 55,
   "id": "4542c260",
   "metadata": {
    "ExecuteTime": {
     "end_time": "2023-03-02T08:48:33.153939Z",
     "start_time": "2023-03-02T08:48:33.149888Z"
    }
   },
   "outputs": [],
   "source": [
    "def filter_missing_knn(missing_rate):\n",
    "    #save filename\n",
    "    save_dir = \"/home/zhl/projects/batch_effect_correction/new_results/missingvalue\"\n",
    "    file_missing = os.path.join(save_dir,\"Protein_raw_maxLFQ_impute\"+str(missing_rate)+\".csv\")\n",
    "    \n",
    "    thresh_num = df_protein_raw_samples.shape[1]*missing_rate\n",
    "    print(\"Protein is quantified in at least %d samples\"%thresh_num )\n",
    "    df_protein_missing = df_protein_raw_samples.dropna(axis=0,thresh=thresh_num)\n",
    "    df_protein_missing = df_protein_missing.T\n",
    "    \n",
    "    columns = list(df_protein_missing.columns)\n",
    "    \n",
    "    df_protein_missingimpute = fancyimpute.KNN(k=15).fit_transform(df_protein_missing.values) #knn按列进行填充\n",
    "    df_protein_missingimpute = pd.DataFrame(df_protein_missingimpute, columns=columns, index=df_protein_missing.index).T\n",
    "    \n",
    "    df_missing = pd.merge(df_protein_raw.loc[:,[\"Protein\",\"PG.FASTAName\"]],df_protein_missingimpute,\n",
    "                         how=\"right\",left_index = True,right_index = True)\n",
    "\n",
    "    df_missing.round(3).to_csv(file_missing,index=False)"
   ]
  },
  {
   "cell_type": "code",
   "execution_count": 56,
   "id": "91a520b4",
   "metadata": {
    "ExecuteTime": {
     "end_time": "2023-03-02T08:49:32.642059Z",
     "start_time": "2023-03-02T08:48:49.670951Z"
    }
   },
   "outputs": [
    {
     "name": "stdout",
     "output_type": "stream",
     "text": [
      "0.0\n",
      "Protein is quantified in at least 0 samples\n",
      "Imputing row 1/305 with 1419 missing, elapsed time: 3.030\n",
      "Imputing row 101/305 with 1415 missing, elapsed time: 3.576\n",
      "Imputing row 201/305 with 3215 missing, elapsed time: 4.224\n",
      "Imputing row 301/305 with 1295 missing, elapsed time: 4.739\n",
      "0.1\n",
      "Protein is quantified in at least 30 samples\n",
      "Imputing row 1/305 with 1383 missing, elapsed time: 2.985\n",
      "Imputing row 101/305 with 1377 missing, elapsed time: 3.521\n",
      "Imputing row 201/305 with 3176 missing, elapsed time: 4.157\n",
      "Imputing row 301/305 with 1260 missing, elapsed time: 4.656\n",
      "0.2\n",
      "Protein is quantified in at least 61 samples\n",
      "Imputing row 1/305 with 1267 missing, elapsed time: 2.927\n",
      "Imputing row 101/305 with 1256 missing, elapsed time: 3.415\n",
      "Imputing row 201/305 with 3048 missing, elapsed time: 4.012\n",
      "Imputing row 301/305 with 1150 missing, elapsed time: 4.476\n",
      "0.3\n",
      "Protein is quantified in at least 91 samples\n",
      "Imputing row 1/305 with 1100 missing, elapsed time: 2.793\n",
      "Imputing row 101/305 with 1063 missing, elapsed time: 3.219\n",
      "Imputing row 201/305 with 2827 missing, elapsed time: 3.742\n",
      "Imputing row 301/305 with 993 missing, elapsed time: 4.136\n",
      "0.4\n",
      "Protein is quantified in at least 122 samples\n",
      "Imputing row 1/305 with 904 missing, elapsed time: 2.651\n",
      "Imputing row 101/305 with 825 missing, elapsed time: 2.997\n",
      "Imputing row 201/305 with 2531 missing, elapsed time: 3.428\n",
      "Imputing row 301/305 with 811 missing, elapsed time: 3.745\n",
      "0.5\n",
      "Protein is quantified in at least 152 samples\n",
      "Imputing row 1/305 with 702 missing, elapsed time: 2.453\n",
      "Imputing row 101/305 with 585 missing, elapsed time: 2.711\n",
      "Imputing row 201/305 with 2173 missing, elapsed time: 3.044\n",
      "Imputing row 301/305 with 625 missing, elapsed time: 3.280\n",
      "0.6\n",
      "Protein is quantified in at least 183 samples\n",
      "Imputing row 1/305 with 509 missing, elapsed time: 2.219\n",
      "Imputing row 101/305 with 344 missing, elapsed time: 2.388\n",
      "Imputing row 201/305 with 1783 missing, elapsed time: 2.620\n",
      "Imputing row 301/305 with 471 missing, elapsed time: 2.775\n",
      "0.7\n",
      "Protein is quantified in at least 213 samples\n",
      "Imputing row 1/305 with 338 missing, elapsed time: 1.850\n",
      "Imputing row 101/305 with 189 missing, elapsed time: 1.954\n",
      "Imputing row 201/305 with 1384 missing, elapsed time: 2.110\n",
      "Imputing row 301/305 with 328 missing, elapsed time: 2.209\n",
      "0.8\n",
      "Protein is quantified in at least 244 samples\n",
      "Imputing row 1/305 with 171 missing, elapsed time: 1.588\n",
      "Imputing row 101/305 with 70 missing, elapsed time: 1.643\n",
      "Imputing row 201/305 with 974 missing, elapsed time: 1.731\n",
      "Imputing row 301/305 with 199 missing, elapsed time: 1.783\n",
      "0.9\n",
      "Protein is quantified in at least 274 samples\n",
      "Imputing row 1/305 with 58 missing, elapsed time: 1.139\n",
      "Imputing row 101/305 with 20 missing, elapsed time: 1.157\n",
      "Imputing row 201/305 with 537 missing, elapsed time: 1.193\n",
      "Imputing row 301/305 with 93 missing, elapsed time: 1.212\n",
      "1.0\n",
      "Protein is quantified in at least 305 samples\n"
     ]
    },
    {
     "name": "stderr",
     "output_type": "stream",
     "text": [
      "/home/zhl/anaconda3/envs/pipeline/lib/python3.8/site-packages/fancyimpute/solver.py:55: UserWarning: Input matrix is not missing any values\n",
      "  warnings.warn(\"Input matrix is not missing any values\")\n"
     ]
    },
    {
     "name": "stdout",
     "output_type": "stream",
     "text": [
      "Imputing row 1/305 with 0 missing, elapsed time: 0.573\n",
      "Imputing row 101/305 with 0 missing, elapsed time: 0.573\n",
      "Imputing row 201/305 with 0 missing, elapsed time: 0.573\n",
      "Imputing row 301/305 with 0 missing, elapsed time: 0.573\n"
     ]
    }
   ],
   "source": [
    "missing_ratelist = [i/10 for i in range(0, 11)]\n",
    "for i in missing_ratelist:\n",
    "    print(i)\n",
    "    filter_missing_knn(i)"
   ]
  },
  {
   "cell_type": "markdown",
   "id": "7c7a401c",
   "metadata": {},
   "source": [
    "##  Ratio density :Each data in the scatter plot contains all species"
   ]
  },
  {
   "cell_type": "code",
   "execution_count": 76,
   "id": "e9520f3c",
   "metadata": {
    "ExecuteTime": {
     "end_time": "2023-03-02T09:10:42.489027Z",
     "start_time": "2023-03-02T09:10:24.724239Z"
    }
   },
   "outputs": [
    {
     "name": "stdout",
     "output_type": "stream",
     "text": [
      "Protein_raw_maxLFQ_impute0.7.csv\n",
      "impute0.7\n",
      "swissprot_homo_201604\n",
      "Saccharomyces cerevisiae_201602\n",
      "uniprot-Ecoli_K12_201709\n",
      "swissprot_homo_201604_log2median              4566\n",
      "swissprot_homo_201604                         4566\n",
      "Saccharomyces cerevisiae_201602_log2median    2141\n",
      "Saccharomyces cerevisiae_201602               2141\n",
      "uniprot-Ecoli_K12_201709_log2median            475\n",
      "uniprot-Ecoli_K12_201709                       475\n",
      "dtype: int64\n"
     ]
    },
    {
     "name": "stderr",
     "output_type": "stream",
     "text": [
      "\n",
      "载入程辑包：‘cowplot’\n",
      "\n",
      "The following object is masked from ‘package:ggpubr’:\n",
      "\n",
      "    get_legend\n",
      "\n"
     ]
    },
    {
     "name": "stdout",
     "output_type": "stream",
     "text": [
      "Protein_raw_maxLFQ_impute0.5.csv\n",
      "impute0.5\n",
      "swissprot_homo_201604\n",
      "Saccharomyces cerevisiae_201602\n",
      "uniprot-Ecoli_K12_201709\n",
      "swissprot_homo_201604_log2median              4894\n",
      "swissprot_homo_201604                         4894\n",
      "Saccharomyces cerevisiae_201602_log2median    2476\n",
      "Saccharomyces cerevisiae_201602               2476\n",
      "uniprot-Ecoli_K12_201709_log2median            709\n",
      "uniprot-Ecoli_K12_201709                       709\n",
      "dtype: int64\n"
     ]
    },
    {
     "name": "stderr",
     "output_type": "stream",
     "text": [
      "\n",
      "载入程辑包：‘cowplot’\n",
      "\n",
      "The following object is masked from ‘package:ggpubr’:\n",
      "\n",
      "    get_legend\n",
      "\n"
     ]
    },
    {
     "name": "stdout",
     "output_type": "stream",
     "text": [
      "Protein_raw_maxLFQ_impute0.0.csv\n",
      "impute0.0\n",
      "swissprot_homo_201604\n",
      "Saccharomyces cerevisiae_201602\n",
      "uniprot-Ecoli_K12_201709\n",
      "swissprot_homo_201604_log2median              5296\n",
      "swissprot_homo_201604                         5296\n",
      "Saccharomyces cerevisiae_201602_log2median    2847\n",
      "Saccharomyces cerevisiae_201602               2847\n",
      "uniprot-Ecoli_K12_201709_log2median           1021\n",
      "uniprot-Ecoli_K12_201709                      1021\n",
      "dtype: int64\n"
     ]
    },
    {
     "name": "stderr",
     "output_type": "stream",
     "text": [
      "\n",
      "载入程辑包：‘cowplot’\n",
      "\n",
      "The following object is masked from ‘package:ggpubr’:\n",
      "\n",
      "    get_legend\n",
      "\n"
     ]
    },
    {
     "name": "stdout",
     "output_type": "stream",
     "text": [
      "Protein_raw_maxLFQ_impute0.4.csv\n",
      "impute0.4\n",
      "swissprot_homo_201604\n",
      "Saccharomyces cerevisiae_201602\n",
      "uniprot-Ecoli_K12_201709\n",
      "swissprot_homo_201604_log2median              5026\n",
      "swissprot_homo_201604                         5026\n",
      "Saccharomyces cerevisiae_201602_log2median    2608\n",
      "Saccharomyces cerevisiae_201602               2608\n",
      "uniprot-Ecoli_K12_201709_log2median            825\n",
      "uniprot-Ecoli_K12_201709                       825\n",
      "dtype: int64\n"
     ]
    },
    {
     "name": "stderr",
     "output_type": "stream",
     "text": [
      "\n",
      "载入程辑包：‘cowplot’\n",
      "\n",
      "The following object is masked from ‘package:ggpubr’:\n",
      "\n",
      "    get_legend\n",
      "\n"
     ]
    },
    {
     "name": "stdout",
     "output_type": "stream",
     "text": [
      "Protein_raw_maxLFQ_impute0.8.csv\n",
      "impute0.8\n",
      "swissprot_homo_201604\n",
      "Saccharomyces cerevisiae_201602\n",
      "uniprot-Ecoli_K12_201709\n",
      "swissprot_homo_201604_log2median              4309\n",
      "swissprot_homo_201604                         4309\n",
      "Saccharomyces cerevisiae_201602_log2median    1955\n",
      "Saccharomyces cerevisiae_201602               1955\n",
      "uniprot-Ecoli_K12_201709_log2median            384\n",
      "uniprot-Ecoli_K12_201709                       384\n",
      "dtype: int64\n"
     ]
    },
    {
     "name": "stderr",
     "output_type": "stream",
     "text": [
      "\n",
      "载入程辑包：‘cowplot’\n",
      "\n",
      "The following object is masked from ‘package:ggpubr’:\n",
      "\n",
      "    get_legend\n",
      "\n"
     ]
    },
    {
     "name": "stdout",
     "output_type": "stream",
     "text": [
      "Protein_raw_maxLFQ_impute0.2.csv\n",
      "impute0.2\n",
      "swissprot_homo_201604\n",
      "Saccharomyces cerevisiae_201602\n",
      "uniprot-Ecoli_K12_201709\n",
      "swissprot_homo_201604_log2median              5227\n",
      "swissprot_homo_201604                         5227\n",
      "Saccharomyces cerevisiae_201602_log2median    2791\n",
      "Saccharomyces cerevisiae_201602               2791\n",
      "uniprot-Ecoli_K12_201709_log2median            973\n",
      "uniprot-Ecoli_K12_201709                       973\n",
      "dtype: int64\n"
     ]
    },
    {
     "name": "stderr",
     "output_type": "stream",
     "text": [
      "\n",
      "载入程辑包：‘cowplot’\n",
      "\n",
      "The following object is masked from ‘package:ggpubr’:\n",
      "\n",
      "    get_legend\n",
      "\n"
     ]
    },
    {
     "name": "stdout",
     "output_type": "stream",
     "text": [
      "Protein_raw_maxLFQ_impute1.0.csv\n",
      "impute1.0\n",
      "swissprot_homo_201604\n",
      "Saccharomyces cerevisiae_201602\n",
      "uniprot-Ecoli_K12_201709\n",
      "swissprot_homo_201604_log2median              2900\n",
      "swissprot_homo_201604                         2900\n",
      "Saccharomyces cerevisiae_201602_log2median     977\n",
      "Saccharomyces cerevisiae_201602                977\n",
      "uniprot-Ecoli_K12_201709_log2median            146\n",
      "uniprot-Ecoli_K12_201709                       146\n",
      "dtype: int64\n"
     ]
    },
    {
     "name": "stderr",
     "output_type": "stream",
     "text": [
      "\n",
      "载入程辑包：‘cowplot’\n",
      "\n",
      "The following object is masked from ‘package:ggpubr’:\n",
      "\n",
      "    get_legend\n",
      "\n"
     ]
    },
    {
     "name": "stdout",
     "output_type": "stream",
     "text": [
      "Protein_raw_maxLFQ_impute0.3.csv\n",
      "impute0.3\n",
      "swissprot_homo_201604\n",
      "Saccharomyces cerevisiae_201602\n",
      "uniprot-Ecoli_K12_201709\n",
      "swissprot_homo_201604_log2median              5146\n",
      "swissprot_homo_201604                         5146\n",
      "Saccharomyces cerevisiae_201602_log2median    2715\n",
      "Saccharomyces cerevisiae_201602               2715\n",
      "uniprot-Ecoli_K12_201709_log2median            902\n",
      "uniprot-Ecoli_K12_201709                       902\n",
      "dtype: int64\n"
     ]
    },
    {
     "name": "stderr",
     "output_type": "stream",
     "text": [
      "\n",
      "载入程辑包：‘cowplot’\n",
      "\n",
      "The following object is masked from ‘package:ggpubr’:\n",
      "\n",
      "    get_legend\n",
      "\n"
     ]
    },
    {
     "name": "stdout",
     "output_type": "stream",
     "text": [
      "Protein_raw_maxLFQ_impute0.6.csv\n",
      "impute0.6\n",
      "swissprot_homo_201604\n",
      "Saccharomyces cerevisiae_201602\n",
      "uniprot-Ecoli_K12_201709\n",
      "swissprot_homo_201604_log2median              4750\n",
      "swissprot_homo_201604                         4750\n",
      "Saccharomyces cerevisiae_201602_log2median    2315\n",
      "Saccharomyces cerevisiae_201602               2315\n",
      "uniprot-Ecoli_K12_201709_log2median            581\n",
      "uniprot-Ecoli_K12_201709                       581\n",
      "dtype: int64\n"
     ]
    },
    {
     "name": "stderr",
     "output_type": "stream",
     "text": [
      "\n",
      "载入程辑包：‘cowplot’\n",
      "\n",
      "The following object is masked from ‘package:ggpubr’:\n",
      "\n",
      "    get_legend\n",
      "\n"
     ]
    },
    {
     "name": "stdout",
     "output_type": "stream",
     "text": [
      "Protein_raw_maxLFQ_impute0.9.csv\n",
      "impute0.9\n",
      "swissprot_homo_201604\n",
      "Saccharomyces cerevisiae_201602\n",
      "uniprot-Ecoli_K12_201709\n",
      "swissprot_homo_201604_log2median              3970\n",
      "swissprot_homo_201604                         3970\n",
      "Saccharomyces cerevisiae_201602_log2median    1662\n",
      "Saccharomyces cerevisiae_201602               1662\n",
      "uniprot-Ecoli_K12_201709_log2median            317\n",
      "uniprot-Ecoli_K12_201709                       317\n",
      "dtype: int64\n"
     ]
    },
    {
     "name": "stderr",
     "output_type": "stream",
     "text": [
      "\n",
      "载入程辑包：‘cowplot’\n",
      "\n",
      "The following object is masked from ‘package:ggpubr’:\n",
      "\n",
      "    get_legend\n",
      "\n"
     ]
    },
    {
     "name": "stdout",
     "output_type": "stream",
     "text": [
      "Protein_raw_maxLFQ_impute0.1.csv\n",
      "impute0.1\n",
      "swissprot_homo_201604\n",
      "Saccharomyces cerevisiae_201602\n",
      "uniprot-Ecoli_K12_201709\n",
      "swissprot_homo_201604_log2median              5275\n",
      "swissprot_homo_201604                         5275\n",
      "Saccharomyces cerevisiae_201602_log2median    2839\n",
      "Saccharomyces cerevisiae_201602               2839\n",
      "uniprot-Ecoli_K12_201709_log2median           1010\n",
      "uniprot-Ecoli_K12_201709                      1010\n",
      "dtype: int64\n"
     ]
    },
    {
     "name": "stderr",
     "output_type": "stream",
     "text": [
      "\n",
      "载入程辑包：‘cowplot’\n",
      "\n",
      "The following object is masked from ‘package:ggpubr’:\n",
      "\n",
      "    get_legend\n",
      "\n"
     ]
    }
   ],
   "source": [
    "save_path = \"/home/zhl/projects/batch_effect_correction/new_results/missingvalue/Ratio_density/\"\n",
    "protein_dir = \"/home/zhl/projects/batch_effect_correction/new_results/missingvalue/\"\n",
    "file_dirs = os.listdir(protein_dir)\n",
    "files = [i for i in file_dirs if os.path.splitext(i)[1] == '.csv']\n",
    "species_dirs = [\"swissprot_homo_201604\",\"Saccharomyces cerevisiae_201602\",\"uniprot-Ecoli_K12_201709\"]\n",
    "summary_data = pd.DataFrame()\n",
    "for i in files:\n",
    "    print(i)\n",
    "    method = i.split(\"Protein_raw_maxLFQ_\")[1].split(\".csv\")[0]\n",
    "    print(method)\n",
    "    df = pd.read_csv(os.path.join(protein_dir,i),index_col=0)\n",
    "    Ratio_data = pd.DataFrame(index=df.index)\n",
    "    \n",
    "    save_file = os.path.join(save_path,\"Protein_Ratio_\"+method + \".csv\")\n",
    "    save_png = os.path.join(save_path,method + \"_Ratio.png\")\n",
    "    save_pdf = os.path.join(save_path,method + \"_Ratio.pdf\")\n",
    "    for species in species_dirs:\n",
    "        print(species)\n",
    "        A = df.columns[df.columns.str.contains(\"_A_\")]\n",
    "        B = df.columns[df.columns.str.contains(\"_B_\")]\n",
    "        df_A = df.loc[df[\"PG.FASTAName\"]==species,:]\n",
    "        df_A = df_A[A]\n",
    "        df_B = df.loc[df[\"PG.FASTAName\"]==species,:]\n",
    "        df_B = df_B[B]\n",
    "        df_AB = pd.merge(df_A,df_B,left_index=True,right_index=True)\n",
    "        \n",
    "        df_median = np.log2(df_AB.T.median())\n",
    "        \n",
    "        df_ratio = df_AB[df_AB.columns[df_AB.columns.str.contains(\"_A_\")]].T.median() / df_AB[df_AB.columns[df_AB.columns.str.contains(\"_B_\")]].T.median()\n",
    "        df_ratio= np.log2(df_ratio)\n",
    "        \n",
    "        Ratio_data[species+\"_log2median\"] = df_median\n",
    "        Ratio_data[species] = df_ratio\n",
    "    Ratio_data.to_csv(save_file)\n",
    "    summary_data = pd.concat([pd.DataFrame(Ratio_data.count(axis=0),columns=[method]),summary_data],axis=1)\n",
    "    print(Ratio_data.count(axis=0))\n",
    "    os.system('Rscript /home/zhl/projects/batch_effect_correction/new_results/missingvalue/R/8.Ratio_density.R {0} {1} {2}'.format(save_file,save_pdf,save_png))         "
   ]
  },
  {
   "cell_type": "code",
   "execution_count": 78,
   "id": "fc3391b1",
   "metadata": {
    "ExecuteTime": {
     "end_time": "2023-03-02T09:11:20.033496Z",
     "start_time": "2023-03-02T09:11:20.031277Z"
    }
   },
   "outputs": [],
   "source": [
    "summary_data.to_csv(\"/home/zhl/projects/batch_effect_correction/new_results/missingvalue/Ratio_density/summary_data.csv\")"
   ]
  },
  {
   "cell_type": "markdown",
   "id": "4b78cbab",
   "metadata": {
    "ExecuteTime": {
     "end_time": "2023-03-02T08:16:51.756481Z",
     "start_time": "2023-03-02T08:16:51.754457Z"
    }
   },
   "source": [
    "##  Precision"
   ]
  },
  {
   "cell_type": "code",
   "execution_count": 79,
   "id": "d65b94e6",
   "metadata": {
    "ExecuteTime": {
     "end_time": "2023-03-02T09:20:04.389528Z",
     "start_time": "2023-03-02T09:20:04.219178Z"
    }
   },
   "outputs": [
    {
     "data": {
      "text/html": [
       "<div>\n",
       "<style scoped>\n",
       "    .dataframe tbody tr th:only-of-type {\n",
       "        vertical-align: middle;\n",
       "    }\n",
       "\n",
       "    .dataframe tbody tr th {\n",
       "        vertical-align: top;\n",
       "    }\n",
       "\n",
       "    .dataframe thead th {\n",
       "        text-align: right;\n",
       "    }\n",
       "</style>\n",
       "<table border=\"1\" class=\"dataframe\">\n",
       "  <thead>\n",
       "    <tr style=\"text-align: right;\">\n",
       "      <th></th>\n",
       "      <th>0</th>\n",
       "      <th>1</th>\n",
       "    </tr>\n",
       "  </thead>\n",
       "  <tbody>\n",
       "    <tr>\n",
       "      <th>0</th>\n",
       "      <td>FMMU_Day_1_A_rep_1</td>\n",
       "      <td>Lab1</td>\n",
       "    </tr>\n",
       "    <tr>\n",
       "      <th>1</th>\n",
       "      <td>FMMU_Day_1_A_rep_2</td>\n",
       "      <td>Lab1</td>\n",
       "    </tr>\n",
       "    <tr>\n",
       "      <th>2</th>\n",
       "      <td>FMMU_Day_1_A_rep_3</td>\n",
       "      <td>Lab1</td>\n",
       "    </tr>\n",
       "    <tr>\n",
       "      <th>3</th>\n",
       "      <td>FMMU_Day_1_B_rep_1</td>\n",
       "      <td>Lab1</td>\n",
       "    </tr>\n",
       "    <tr>\n",
       "      <th>4</th>\n",
       "      <td>FMMU_Day_1_B_rep_2</td>\n",
       "      <td>Lab1</td>\n",
       "    </tr>\n",
       "    <tr>\n",
       "      <th>...</th>\n",
       "      <td>...</td>\n",
       "      <td>...</td>\n",
       "    </tr>\n",
       "    <tr>\n",
       "      <th>300</th>\n",
       "      <td>MRL_Day_7_A_Rep_2</td>\n",
       "      <td>Lab11</td>\n",
       "    </tr>\n",
       "    <tr>\n",
       "      <th>301</th>\n",
       "      <td>MRL_Day_7_A_Rep_3</td>\n",
       "      <td>Lab11</td>\n",
       "    </tr>\n",
       "    <tr>\n",
       "      <th>302</th>\n",
       "      <td>MRL_Day_7_B_Rep_1</td>\n",
       "      <td>Lab11</td>\n",
       "    </tr>\n",
       "    <tr>\n",
       "      <th>303</th>\n",
       "      <td>MRL_Day_7_B_Rep_2</td>\n",
       "      <td>Lab11</td>\n",
       "    </tr>\n",
       "    <tr>\n",
       "      <th>304</th>\n",
       "      <td>MRL_Day_7_B_Rep_3</td>\n",
       "      <td>Lab11</td>\n",
       "    </tr>\n",
       "  </tbody>\n",
       "</table>\n",
       "<p>305 rows × 2 columns</p>\n",
       "</div>"
      ],
      "text/plain": [
       "                      0      1\n",
       "0    FMMU_Day_1_A_rep_1   Lab1\n",
       "1    FMMU_Day_1_A_rep_2   Lab1\n",
       "2    FMMU_Day_1_A_rep_3   Lab1\n",
       "3    FMMU_Day_1_B_rep_1   Lab1\n",
       "4    FMMU_Day_1_B_rep_2   Lab1\n",
       "..                  ...    ...\n",
       "300   MRL_Day_7_A_Rep_2  Lab11\n",
       "301   MRL_Day_7_A_Rep_3  Lab11\n",
       "302   MRL_Day_7_B_Rep_1  Lab11\n",
       "303   MRL_Day_7_B_Rep_2  Lab11\n",
       "304   MRL_Day_7_B_Rep_3  Lab11\n",
       "\n",
       "[305 rows x 2 columns]"
      ]
     },
     "execution_count": 79,
     "metadata": {},
     "output_type": "execute_result"
    }
   ],
   "source": [
    "MSFile = pd.read_csv('/home/zhl/projects/batch_effect_correction/new_results/missingvalue/Protein_raw_maxLFQ_impute0.6.csv',low_memory=False)\n",
    "group = pd.read_excel(\"/home/zhl/projects/batch_effect_correction/new_results/group_new.xls\",header=None)\n",
    "group = group.iloc[1:,0:2]\n",
    "group = group.merge(pd.DataFrame(MSFile.columns,columns=[0]))\n",
    "group"
   ]
  },
  {
   "cell_type": "code",
   "execution_count": 82,
   "id": "ad2bc934",
   "metadata": {
    "ExecuteTime": {
     "end_time": "2023-03-02T09:21:09.750438Z",
     "start_time": "2023-03-02T09:21:09.611677Z"
    }
   },
   "outputs": [],
   "source": [
    "path = \"/home/zhl/projects/batch_effect_correction/new_results/missingvalue\"\n",
    "lab_pro = pd.read_csv(os.path.join(path,\"Protein_raw_maxLFQ_impute0.4.csv\"))\n",
    "cols = [i for i in list(lab_pro.columns) if \"Day\" in i]"
   ]
  },
  {
   "cell_type": "code",
   "execution_count": 83,
   "id": "7c73a1d3",
   "metadata": {
    "ExecuteTime": {
     "end_time": "2023-03-02T09:21:15.351062Z",
     "start_time": "2023-03-02T09:21:15.344949Z"
    }
   },
   "outputs": [],
   "source": [
    "labs = []\n",
    "for col in cols:\n",
    "    lab = col.split(\"_\",1)[0]\n",
    "    labs.append(lab)\n",
    "labs = list(set(labs))"
   ]
  },
  {
   "cell_type": "code",
   "execution_count": 85,
   "id": "008500dd",
   "metadata": {
    "ExecuteTime": {
     "end_time": "2023-03-02T09:21:59.389255Z",
     "start_time": "2023-03-02T09:21:59.308367Z"
    }
   },
   "outputs": [
    {
     "name": "stderr",
     "output_type": "stream",
     "text": [
      "/tmp/ipykernel_2536718/2600419678.py:6: FutureWarning: The default value of regex will change from True to False in a future version.\n",
      "  group_labs[0] = group[0].str.replace(\"_.*\",\"\")\n",
      "/tmp/ipykernel_2536718/2600419678.py:6: SettingWithCopyWarning: \n",
      "A value is trying to be set on a copy of a slice from a DataFrame.\n",
      "Try using .loc[row_indexer,col_indexer] = value instead\n",
      "\n",
      "See the caveats in the documentation: https://pandas.pydata.org/pandas-docs/stable/user_guide/indexing.html#returning-a-view-versus-a-copy\n",
      "  group_labs[0] = group[0].str.replace(\"_.*\",\"\")\n"
     ]
    }
   ],
   "source": [
    "save_path = \"/home/zhl/projects/batch_effect_correction/new_results/missingvalue/precision\"\n",
    "protein_dir = \"/home/zhl/projects/batch_effect_correction/new_results/missingvalue/\"\n",
    "file_dirs = os.listdir(protein_dir)\n",
    "files = [i for i in file_dirs if os.path.splitext(i)[1] == '.csv']\n",
    "group_labs = group.drop_duplicates(subset=1)\n",
    "group_labs[0] = group[0].str.replace(\"_.*\",\"\")\n",
    "species_dirs = [\"swissprot_homo_201604\",\"Saccharomyces cerevisiae_201602\",\"uniprot-Ecoli_K12_201709\"]"
   ]
  },
  {
   "cell_type": "code",
   "execution_count": 91,
   "id": "eaf12185",
   "metadata": {
    "ExecuteTime": {
     "end_time": "2023-03-02T09:39:39.045308Z",
     "start_time": "2023-03-02T09:34:23.925141Z"
    }
   },
   "outputs": [
    {
     "name": "stdout",
     "output_type": "stream",
     "text": [
      "Protein_raw_maxLFQ_impute0.7.csv\n",
      "swissprot_homo_201604\n",
      "Saccharomyces cerevisiae_201602\n",
      "uniprot-Ecoli_K12_201709\n",
      "Protein_raw_maxLFQ_impute0.5.csv\n",
      "swissprot_homo_201604\n",
      "Saccharomyces cerevisiae_201602\n",
      "uniprot-Ecoli_K12_201709\n",
      "Protein_raw_maxLFQ_impute0.0.csv\n",
      "swissprot_homo_201604\n",
      "Saccharomyces cerevisiae_201602\n",
      "uniprot-Ecoli_K12_201709\n",
      "Protein_raw_maxLFQ_impute0.4.csv\n",
      "swissprot_homo_201604\n",
      "Saccharomyces cerevisiae_201602\n",
      "uniprot-Ecoli_K12_201709\n",
      "Protein_raw_maxLFQ_impute0.8.csv\n",
      "swissprot_homo_201604\n",
      "Saccharomyces cerevisiae_201602\n",
      "uniprot-Ecoli_K12_201709\n",
      "Protein_raw_maxLFQ_impute0.2.csv\n",
      "swissprot_homo_201604\n",
      "Saccharomyces cerevisiae_201602\n",
      "uniprot-Ecoli_K12_201709\n",
      "Protein_raw_maxLFQ_impute1.0.csv\n",
      "swissprot_homo_201604\n",
      "Saccharomyces cerevisiae_201602\n",
      "uniprot-Ecoli_K12_201709\n",
      "Protein_raw_maxLFQ_impute0.3.csv\n",
      "swissprot_homo_201604\n",
      "Saccharomyces cerevisiae_201602\n",
      "uniprot-Ecoli_K12_201709\n",
      "Protein_raw_maxLFQ_impute0.6.csv\n",
      "swissprot_homo_201604\n",
      "Saccharomyces cerevisiae_201602\n",
      "uniprot-Ecoli_K12_201709\n",
      "Protein_raw_maxLFQ_impute0.9.csv\n",
      "swissprot_homo_201604\n",
      "Saccharomyces cerevisiae_201602\n",
      "uniprot-Ecoli_K12_201709\n",
      "Protein_raw_maxLFQ_impute0.1.csv\n",
      "swissprot_homo_201604\n",
      "Saccharomyces cerevisiae_201602\n",
      "uniprot-Ecoli_K12_201709\n"
     ]
    }
   ],
   "source": [
    "df_rsd_median = pd.DataFrame(columns=[\"method\",\"species\",\"median rsd\"])\n",
    "for i in files:\n",
    "    print(i)\n",
    "    method = i.split(\"Protein_raw_maxLFQ_\")[1].split(\".csv\")[0]\n",
    "    df = pd.read_csv(os.path.join(protein_dir,i),index_col=0)\n",
    " \n",
    "    subgroup = group[group[0].str.contains(\"_A_\")]\n",
    "    rsd_data = pd.DataFrame()\n",
    "    for species in species_dirs:\n",
    "        print(species)\n",
    "        A_sample = df.columns[(df.columns.str.contains(\"_A_\"))]\n",
    "        df_A = df.loc[df[\"PG.FASTAName\"]==species,:]\n",
    "        df_A = df_A[A_sample]\n",
    "        group2sample = subgroup.groupby(1,as_index=False)\n",
    "        \n",
    "        for key, value in group2sample:\n",
    "            Value = list(value[0])\n",
    "            sub_rsd_data = df_A[Value].apply(lambda x: np.std(x[Value], ddof=1) / np.mean(x[Value]),axis=1)\n",
    "            sub_rsd_data = pd.DataFrame(sub_rsd_data)\n",
    "        sub_rsd_data[\"species\"] = species\n",
    "        sub_rsd_data.columns = [\"RSD\",\"species\"]\n",
    "        rsd_data = pd.concat([rsd_data,sub_rsd_data])\n",
    "        \n",
    "        median_rsd = np.median(np.median(sub_rsd_data[\"RSD\"]))\n",
    "        s_df_rsd_median = pd.DataFrame({\"method\":method,\"species\":species,\"median rsd\":median_rsd},index=[0])\n",
    "        df_rsd_median = pd.concat([df_rsd_median,s_df_rsd_median])\n",
    "\n",
    "    #break\n",
    "    rsd_data.to_csv(os.path.join(save_path, 'rsd_A_'+i))\n",
    "df_rsd_median.to_csv(os.path.join(save_path, 'rsd_median_A.csv'),index=None)\n",
    "    #np.median(rsd_data[rsd_data[\"species\"]==\"swissprot_homo_201604\"].loc[:,\"RSD\"])"
   ]
  },
  {
   "cell_type": "code",
   "execution_count": 88,
   "id": "b2297ddd",
   "metadata": {
    "ExecuteTime": {
     "end_time": "2023-03-02T09:33:22.997929Z",
     "start_time": "2023-03-02T09:28:06.299721Z"
    }
   },
   "outputs": [
    {
     "name": "stdout",
     "output_type": "stream",
     "text": [
      "Protein_raw_maxLFQ_impute0.7.csv\n",
      "swissprot_homo_201604\n",
      "Saccharomyces cerevisiae_201602\n",
      "uniprot-Ecoli_K12_201709\n",
      "Protein_raw_maxLFQ_impute0.5.csv\n",
      "swissprot_homo_201604\n",
      "Saccharomyces cerevisiae_201602\n",
      "uniprot-Ecoli_K12_201709\n",
      "Protein_raw_maxLFQ_impute0.0.csv\n",
      "swissprot_homo_201604\n",
      "Saccharomyces cerevisiae_201602\n",
      "uniprot-Ecoli_K12_201709\n",
      "Protein_raw_maxLFQ_impute0.4.csv\n",
      "swissprot_homo_201604\n",
      "Saccharomyces cerevisiae_201602\n",
      "uniprot-Ecoli_K12_201709\n",
      "Protein_raw_maxLFQ_impute0.8.csv\n",
      "swissprot_homo_201604\n",
      "Saccharomyces cerevisiae_201602\n",
      "uniprot-Ecoli_K12_201709\n",
      "Protein_raw_maxLFQ_impute0.2.csv\n",
      "swissprot_homo_201604\n",
      "Saccharomyces cerevisiae_201602\n",
      "uniprot-Ecoli_K12_201709\n",
      "Protein_raw_maxLFQ_impute1.0.csv\n",
      "swissprot_homo_201604\n",
      "Saccharomyces cerevisiae_201602\n",
      "uniprot-Ecoli_K12_201709\n",
      "Protein_raw_maxLFQ_impute0.3.csv\n",
      "swissprot_homo_201604\n",
      "Saccharomyces cerevisiae_201602\n",
      "uniprot-Ecoli_K12_201709\n",
      "Protein_raw_maxLFQ_impute0.6.csv\n",
      "swissprot_homo_201604\n",
      "Saccharomyces cerevisiae_201602\n",
      "uniprot-Ecoli_K12_201709\n",
      "Protein_raw_maxLFQ_impute0.9.csv\n",
      "swissprot_homo_201604\n",
      "Saccharomyces cerevisiae_201602\n",
      "uniprot-Ecoli_K12_201709\n",
      "Protein_raw_maxLFQ_impute0.1.csv\n",
      "swissprot_homo_201604\n",
      "Saccharomyces cerevisiae_201602\n",
      "uniprot-Ecoli_K12_201709\n"
     ]
    }
   ],
   "source": [
    "df_rsd_median = pd.DataFrame(columns=[\"method\",\"species\",\"median rsd\"])\n",
    "for i in files:\n",
    "    print(i)\n",
    "    method = i.split(\"Protein_raw_maxLFQ_\")[1].split(\".csv\")[0]\n",
    "    df = pd.read_csv(os.path.join(protein_dir,i),index_col=0)\n",
    " \n",
    "    subgroup = group[group[0].str.contains(\"_B_\")]\n",
    "    rsd_data = pd.DataFrame()\n",
    "    for species in species_dirs:\n",
    "        print(species)\n",
    "        A_sample = df.columns[(df.columns.str.contains(\"_B_\"))]\n",
    "        df_A = df.loc[df[\"PG.FASTAName\"]==species,:]\n",
    "        df_A = df_A[A_sample]\n",
    "        group2sample = subgroup.groupby(1,as_index=False)\n",
    "        \n",
    "        for key, value in group2sample:\n",
    "            Value = list(value[0])\n",
    "            sub_rsd_data = df_A[Value].apply(lambda x: np.std(x[Value], ddof=1) / np.mean(x[Value]),axis=1)\n",
    "            sub_rsd_data = pd.DataFrame(sub_rsd_data)\n",
    "        sub_rsd_data[\"species\"] = species\n",
    "        sub_rsd_data.columns = [\"RSD\",\"species\"]\n",
    "        rsd_data = pd.concat([rsd_data,sub_rsd_data])\n",
    "        \n",
    "        median_rsd = np.median(np.median(sub_rsd_data[\"RSD\"]))\n",
    "        s_df_rsd_median = pd.DataFrame({\"method\":method,\"species\":species,\"median rsd\":median_rsd},index=[0])\n",
    "        df_rsd_median = pd.concat([df_rsd_median,s_df_rsd_median])\n",
    "\n",
    "    #break\n",
    "    rsd_data.to_csv(os.path.join(save_path, 'rsd_B_'+i))\n",
    "df_rsd_median.to_csv(os.path.join(save_path, 'rsd_median_B.csv'),index=None)"
   ]
  },
  {
   "cell_type": "code",
   "execution_count": 117,
   "id": "26feb74b",
   "metadata": {
    "ExecuteTime": {
     "end_time": "2023-03-02T09:52:24.132081Z",
     "start_time": "2023-03-02T09:52:23.825286Z"
    },
    "scrolled": true
   },
   "outputs": [
    {
     "name": "stdout",
     "output_type": "stream",
     "text": [
      "0.0\n",
      "human: 0.103\n",
      "yeast: 0.13\n",
      "ecoli: 0.134 \n",
      "\n",
      "0.1\n",
      "human: 0.103\n",
      "yeast: 0.13\n",
      "ecoli: 0.134 \n",
      "\n",
      "0.2\n",
      "human: 0.103\n",
      "yeast: 0.13\n",
      "ecoli: 0.135 \n",
      "\n",
      "0.3\n",
      "human: 0.102\n",
      "yeast: 0.129\n",
      "ecoli: 0.133 \n",
      "\n",
      "0.4\n",
      "human: 0.1\n",
      "yeast: 0.124\n",
      "ecoli: 0.131 \n",
      "\n",
      "0.5\n",
      "human: 0.098\n",
      "yeast: 0.119\n",
      "ecoli: 0.123 \n",
      "\n",
      "0.6\n",
      "human: 0.094\n",
      "yeast: 0.109\n",
      "ecoli: 0.112 \n",
      "\n",
      "0.7\n",
      "human: 0.09\n",
      "yeast: 0.098\n",
      "ecoli: 0.099 \n",
      "\n",
      "0.8\n",
      "human: 0.084\n",
      "yeast: 0.087\n",
      "ecoli: 0.084 \n",
      "\n",
      "0.9\n",
      "human: 0.076\n",
      "yeast: 0.07\n",
      "ecoli: 0.073 \n",
      "\n",
      "1.0\n",
      "human: 0.058\n",
      "yeast: 0.044\n",
      "ecoli: 0.051 \n",
      "\n"
     ]
    }
   ],
   "source": [
    "save_path = \"/home/zhl/projects/batch_effect_correction/new_results/missingvalue/precision/ab\"\n",
    "dirs = \"/home/zhl/projects/batch_effect_correction/new_results/missingvalue/precision/\"\n",
    "file_dirs = os.listdir(dirs)\n",
    "files = [i for i in file_dirs if \"Protein_raw_maxLFQ_\" in i]\n",
    "#methods = [\"raw\",\"Combat\",\"Median-Norm\",\"QC-Mnorm\",\"RUVs\",\"RUVg\",\"RUVIII\"]\n",
    "for m in missing_ratelist:\n",
    "    print(m)\n",
    "    m=str(m)\n",
    "    file_method = [i for i in files if i.split(\"Protein_raw_maxLFQ_impute\")[1].split(\".csv\")[0]==m]\n",
    "    file_a = pd.read_csv(os.path.join(dirs,file_method[0]))\n",
    "    file_a[\"sample\"] = \"A\"\n",
    "    file_b = pd.read_csv(os.path.join(dirs,file_method[1]))\n",
    "    file_b[\"sample\"] = \"B\"\n",
    "    file_ab = pd.concat([file_a,file_b])\n",
    "    file_ab.to_csv(os.path.join(save_path,m + \"_rsd.csv\"),index=None)\n",
    "    rsd_human = file_ab[file_ab[\"species\"]==\"swissprot_homo_201604\"].loc[:,\"RSD\"]\n",
    "    rsd_yeast = file_ab[file_ab[\"species\"]==\"Saccharomyces cerevisiae_201602\"].loc[:,\"RSD\"]\n",
    "    rsd_ecoli = file_ab[file_ab[\"species\"]==\"uniprot-Ecoli_K12_201709\"].loc[:,\"RSD\"]\n",
    "    \n",
    "    rsd_median_human = np.median(rsd_human)\n",
    "    rsd_median_yeast = np.median(rsd_yeast)\n",
    "    rsd_median_ecoli = np.median(rsd_ecoli)\n",
    "    \n",
    "    print(\"human:\",round(rsd_median_human,3))\n",
    "    print(\"yeast:\",round(rsd_median_yeast,3))\n",
    "    print(\"ecoli:\",round(rsd_median_ecoli,3),\"\\n\")"
   ]
  }
 ],
 "metadata": {
  "kernelspec": {
   "display_name": "Python [conda env:pipeline]",
   "language": "python",
   "name": "conda-env-pipeline-py"
  },
  "language_info": {
   "codemirror_mode": {
    "name": "ipython",
    "version": 3
   },
   "file_extension": ".py",
   "mimetype": "text/x-python",
   "name": "python",
   "nbconvert_exporter": "python",
   "pygments_lexer": "ipython3",
   "version": "3.8.13"
  },
  "toc": {
   "base_numbering": 1,
   "nav_menu": {},
   "number_sections": true,
   "sideBar": true,
   "skip_h1_title": false,
   "title_cell": "Table of Contents",
   "title_sidebar": "Contents",
   "toc_cell": false,
   "toc_position": {},
   "toc_section_display": true,
   "toc_window_display": false
  },
  "varInspector": {
   "cols": {
    "lenName": 16,
    "lenType": 16,
    "lenVar": 40
   },
   "kernels_config": {
    "python": {
     "delete_cmd_postfix": "",
     "delete_cmd_prefix": "del ",
     "library": "var_list.py",
     "varRefreshCmd": "print(var_dic_list())"
    },
    "r": {
     "delete_cmd_postfix": ") ",
     "delete_cmd_prefix": "rm(",
     "library": "var_list.r",
     "varRefreshCmd": "cat(var_dic_list()) "
    }
   },
   "types_to_exclude": [
    "module",
    "function",
    "builtin_function_or_method",
    "instance",
    "_Feature"
   ],
   "window_display": false
  }
 },
 "nbformat": 4,
 "nbformat_minor": 5
}
